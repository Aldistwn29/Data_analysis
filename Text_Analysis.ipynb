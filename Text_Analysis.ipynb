{
  "nbformat": 4,
  "nbformat_minor": 0,
  "metadata": {
    "colab": {
      "provenance": [],
      "authorship_tag": "ABX9TyMY+LieALWhBiaEXE9zQFwK",
      "include_colab_link": true
    },
    "kernelspec": {
      "name": "python3",
      "display_name": "Python 3"
    },
    "language_info": {
      "name": "python"
    }
  },
  "cells": [
    {
      "cell_type": "markdown",
      "metadata": {
        "id": "view-in-github",
        "colab_type": "text"
      },
      "source": [
        "<a href=\"https://colab.research.google.com/github/Aldistwn29/Data_analysis/blob/main/Text_Analysis.ipynb\" target=\"_parent\"><img src=\"https://colab.research.google.com/assets/colab-badge.svg\" alt=\"Open In Colab\"/></a>"
      ]
    },
    {
      "cell_type": "code",
      "execution_count": null,
      "metadata": {
        "id": "QAsejxjF5flQ"
      },
      "outputs": [],
      "source": [
        "import re"
      ]
    },
    {
      "cell_type": "markdown",
      "source": [
        "re merupakan libarary yg dipakai untuk reguler expression"
      ],
      "metadata": {
        "id": "macUj_I65J2C"
      }
    },
    {
      "cell_type": "code",
      "source": [
        "# Search data menggunakan Reguler Expresion\n",
        "re.match(r'\\b\\w{5}\\b', 'Asika dan Aldis')"
      ],
      "metadata": {
        "colab": {
          "base_uri": "https://localhost:8080/"
        },
        "id": "VAH9fXv05lxV",
        "outputId": "e7400212-3e56-47ab-cc52-14c73ba8ca31"
      },
      "execution_count": null,
      "outputs": [
        {
          "output_type": "execute_result",
          "data": {
            "text/plain": [
              "<re.Match object; span=(0, 5), match='Asika'>"
            ]
          },
          "metadata": {},
          "execution_count": 17
        }
      ]
    },
    {
      "cell_type": "markdown",
      "source": [
        "digunakan untuk mencocokan awal string."
      ],
      "metadata": {
        "id": "Y6KgJsmv5RvD"
      }
    },
    {
      "cell_type": "code",
      "source": [
        "# Search Data menggunakan Reguler Expression\n",
        "re.search(r'\\b\\w{5}\\b', 'sika dan Aldis')"
      ],
      "metadata": {
        "colab": {
          "base_uri": "https://localhost:8080/"
        },
        "id": "ukhcMCp_6ept",
        "outputId": "40254047-0951-4134-aa38-cc188762bebf"
      },
      "execution_count": null,
      "outputs": [
        {
          "output_type": "execute_result",
          "data": {
            "text/plain": [
              "<re.Match object; span=(9, 14), match='Aldis'>"
            ]
          },
          "metadata": {},
          "execution_count": 4
        }
      ]
    },
    {
      "cell_type": "code",
      "source": [
        "txt = \"The rain in Spain\"\n",
        "x = re.search(\"\\s\", txt)\n",
        "\n",
        "print(\"The first white-space character is located in position:\", x.start())"
      ],
      "metadata": {
        "colab": {
          "base_uri": "https://localhost:8080/"
        },
        "id": "mBTdmddK7-xE",
        "outputId": "ef17dbc5-eb05-4272-a910-5b137fc6308f"
      },
      "execution_count": null,
      "outputs": [
        {
          "output_type": "stream",
          "name": "stdout",
          "text": [
            "The first white-space character is located in position: 3\n"
          ]
        }
      ]
    },
    {
      "cell_type": "code",
      "source": [
        "# Search Data mengggunakan Reguler Expression\n",
        "re.findall(r'\\b\\w{5}\\b', 'Asika dan Aldis')"
      ],
      "metadata": {
        "colab": {
          "base_uri": "https://localhost:8080/"
        },
        "id": "c618qe0m6zih",
        "outputId": "031b99fa-a394-4f18-e5df-901a77b612f5"
      },
      "execution_count": null,
      "outputs": [
        {
          "output_type": "execute_result",
          "data": {
            "text/plain": [
              "['Asika', 'Aldis']"
            ]
          },
          "metadata": {},
          "execution_count": 16
        }
      ]
    },
    {
      "cell_type": "code",
      "source": [
        "# Replace Data\n",
        "s = \"User's mobile number is 1234567890\"\n",
        "hide = re.sub('\\d', 'X', s)\n",
        "\n",
        "print(hide)"
      ],
      "metadata": {
        "colab": {
          "base_uri": "https://localhost:8080/"
        },
        "id": "F7VVginI7SAh",
        "outputId": "0dee0744-940b-46f8-a085-b9849dcdac7b"
      },
      "execution_count": null,
      "outputs": [
        {
          "output_type": "stream",
          "name": "stdout",
          "text": [
            "User's mobile number is XXXXXXXXXX\n"
          ]
        }
      ]
    },
    {
      "cell_type": "code",
      "source": [
        "# Data Validator\n",
        "user_name = input(\"Masukkan Nama Anda: \")\n",
        "\n",
        "while not re.match(\"^[A-Za-z\\s]+$\", user_name):\n",
        "  print(\"Nama Tidak Valid\")\n",
        "  user_name = input(\"Masukkan Nama Anda: \")\n",
        "\n",
        "print(\"Hello \" + user_name)"
      ],
      "metadata": {
        "colab": {
          "base_uri": "https://localhost:8080/"
        },
        "id": "Ub5cFpzH8HGF",
        "outputId": "35db9db1-4ddf-41cf-ed6e-f2246670342e"
      },
      "execution_count": null,
      "outputs": [
        {
          "output_type": "stream",
          "name": "stdout",
          "text": [
            "Masukkan Nama Anda: Aldi Setiawan\n",
            "Hello Aldi Setiawan\n"
          ]
        }
      ]
    },
    {
      "cell_type": "markdown",
      "source": [
        "\n",
        "\n",
        "> Jika di inputkan angka komputer akan menampilkan \"nama tidak valid\". artinya harus di inputkan kembali 'tanpa angka' menggunakan alphabet.\n",
        "\n"
      ],
      "metadata": {
        "id": "PIo3xohrStvT"
      }
    },
    {
      "cell_type": "markdown",
      "source": [
        "# Fuzzy Wuzzy"
      ],
      "metadata": {
        "id": "cyLyRL0x9S1x"
      }
    },
    {
      "cell_type": "code",
      "source": [
        "!pip install fuzzywuzzy"
      ],
      "metadata": {
        "colab": {
          "base_uri": "https://localhost:8080/"
        },
        "id": "3TCtzwof9ay-",
        "outputId": "67888849-93b8-40a6-9fc3-84972506bc4c"
      },
      "execution_count": null,
      "outputs": [
        {
          "output_type": "stream",
          "name": "stdout",
          "text": [
            "Collecting fuzzywuzzy\n",
            "  Downloading fuzzywuzzy-0.18.0-py2.py3-none-any.whl (18 kB)\n",
            "Installing collected packages: fuzzywuzzy\n",
            "Successfully installed fuzzywuzzy-0.18.0\n"
          ]
        }
      ]
    },
    {
      "cell_type": "code",
      "source": [
        "from fuzzywuzzy import fuzz\n",
        "\n",
        "text_1 = 'Hari senin asika mulai sekolah'\n",
        "text_2 = 'Hari senin asika mulai sekolah.'\n",
        "\n",
        "similariti = fuzz.ratio(text_1, text_2)\n",
        "\n",
        "print(similariti)"
      ],
      "metadata": {
        "colab": {
          "base_uri": "https://localhost:8080/"
        },
        "id": "Lx3lQGPT9i2d",
        "outputId": "f85ab296-4334-4502-f152-fc3f8b35b1e7"
      },
      "execution_count": null,
      "outputs": [
        {
          "output_type": "stream",
          "name": "stdout",
          "text": [
            "98\n"
          ]
        },
        {
          "output_type": "stream",
          "name": "stderr",
          "text": [
            "/usr/local/lib/python3.10/dist-packages/fuzzywuzzy/fuzz.py:11: UserWarning: Using slow pure-python SequenceMatcher. Install python-Levenshtein to remove this warning\n",
            "  warnings.warn('Using slow pure-python SequenceMatcher. Install python-Levenshtein to remove this warning')\n"
          ]
        }
      ]
    },
    {
      "cell_type": "markdown",
      "source": [
        "'fuzz.ratio' mengukur kesaaman dari kedua string"
      ],
      "metadata": {
        "id": "bsMaC9xf-xGB"
      }
    },
    {
      "cell_type": "code",
      "source": [
        "similariti = fuzz.partial_ratio(text_1, text_1)\n",
        "\n",
        "print(similariti)"
      ],
      "metadata": {
        "colab": {
          "base_uri": "https://localhost:8080/"
        },
        "id": "vbcV79MY-eLD",
        "outputId": "e0c88457-4fc1-4e78-c950-098b26ba8e0f"
      },
      "execution_count": null,
      "outputs": [
        {
          "output_type": "stream",
          "name": "stdout",
          "text": [
            "100\n"
          ]
        }
      ]
    },
    {
      "cell_type": "markdown",
      "source": [
        "'fuzz.partial' digunakan ketika hanya sebagian kata yg di bandingkan."
      ],
      "metadata": {
        "id": "zZi4QF9p_qN_"
      }
    },
    {
      "cell_type": "code",
      "source": [
        "str1 = 'My name is Aldi'\n",
        "str2 = 'Aldi is my name'\n",
        "\n",
        "ratio = fuzz.ratio(str1.lower(), str2.lower())\n",
        "\n",
        "print(ratio)"
      ],
      "metadata": {
        "colab": {
          "base_uri": "https://localhost:8080/"
        },
        "id": "6uuNhdx3-wV8",
        "outputId": "8b5b4577-7cdb-431e-c45e-e0c68a7d17fb"
      },
      "execution_count": null,
      "outputs": [
        {
          "output_type": "stream",
          "name": "stdout",
          "text": [
            "47\n"
          ]
        }
      ]
    },
    {
      "cell_type": "code",
      "source": [
        "str1 = 'My name is Aldi Setiawan'\n",
        "str2 = 'my name is Aldi'\n",
        "\n",
        "ratio_partial = fuzz.partial_ratio(str1.lower(), str2.lower())\n",
        "\n",
        "print(ratio_partial)"
      ],
      "metadata": {
        "colab": {
          "base_uri": "https://localhost:8080/"
        },
        "id": "yCsNEZYq_Z-n",
        "outputId": "3e440ad8-4c67-44f8-e24a-004adaa17cf0"
      },
      "execution_count": null,
      "outputs": [
        {
          "output_type": "stream",
          "name": "stdout",
          "text": [
            "100\n"
          ]
        }
      ]
    },
    {
      "cell_type": "code",
      "source": [
        "str1 = 'My name is Aldi'\n",
        "str2 = 'Aldi is my name'\n",
        "\n",
        "sort_ratio = fuzz.token_sort_ratio(str1.lower(), str2.lower())\n",
        "\n",
        "print(sort_ratio)"
      ],
      "metadata": {
        "colab": {
          "base_uri": "https://localhost:8080/"
        },
        "id": "lEHwAOSA_8x0",
        "outputId": "068f5917-a803-4846-dd7d-4b2a7d716a15"
      },
      "execution_count": null,
      "outputs": [
        {
          "output_type": "stream",
          "name": "stdout",
          "text": [
            "100\n"
          ]
        }
      ]
    },
    {
      "cell_type": "markdown",
      "source": [
        "'token_sort_ratio' mengabaikan urutan kata dalam string."
      ],
      "metadata": {
        "id": "RWzgDra9AWdv"
      }
    },
    {
      "cell_type": "code",
      "source": [
        "str1 = 'My name is Aldi'\n",
        "str2 = 'Aldi Aldi is my name'\n",
        "\n",
        "token_set_ratio = fuzz.token_set_ratio(str1.lower(), str2.lower())\n",
        "print(token_set_ratio)"
      ],
      "metadata": {
        "colab": {
          "base_uri": "https://localhost:8080/"
        },
        "id": "gfRjLKdEAcFH",
        "outputId": "f02a8833-674d-4ed6-df0c-689fc10a5eaf"
      },
      "execution_count": null,
      "outputs": [
        {
          "output_type": "stream",
          "name": "stdout",
          "text": [
            "100\n"
          ]
        }
      ]
    },
    {
      "cell_type": "markdown",
      "source": [
        "'token_set_ratio' mengabaikan urutan kata dan mengabaikan duplikasi"
      ],
      "metadata": {
        "id": "nuH7OQi3BCHl"
      }
    },
    {
      "cell_type": "markdown",
      "source": [
        "- hasil dari token_sort rasio yaitu 100%, di karenakan kalimatnya bermakna sama\n",
        "- hasil token_set_rasio yaitu 100%, dikarenakan kalimatnya bermakana sama."
      ],
      "metadata": {
        "id": "7DVJfVanTNzB"
      }
    },
    {
      "cell_type": "code",
      "source": [
        "from fuzzywuzzy import process\n",
        "\n",
        "query = 'My name is aldi'\n",
        "choice = ['My name aldi', 'My name is aldi', 'name is aldi']\n",
        "\n",
        "best_match = process.extract(query, choice)\n",
        "print(f\"best match:{best_match}\")"
      ],
      "metadata": {
        "colab": {
          "base_uri": "https://localhost:8080/"
        },
        "id": "tPGVL0t8B40c",
        "outputId": "d6e6687d-dd4b-494e-a607-d5980f301196"
      },
      "execution_count": null,
      "outputs": [
        {
          "output_type": "stream",
          "name": "stdout",
          "text": [
            "best match:[('My name is aldi', 100), ('My name aldi', 95), ('name is aldi', 95)]\n"
          ]
        }
      ]
    },
    {
      "cell_type": "code",
      "source": [
        "import pandas as pd\n",
        "\n",
        "# membuat dataframe\n",
        "dict_one = {\n",
        "    'country' : ['indonesia', 'malaysia', 'singapura', 'thailand', 'vietnam'],\n",
        "    'population_in_millions': [55.98, 5.45, 3.14, 67.33, 1.89]\n",
        "}\n",
        "\n",
        "dict_two = {\n",
        "    'country' : ['indonesia', 'malaysia', 'singapuura', 'thailand', 'vietnam'],\n",
        "    'GDP_per_capita': [24900, 23882, 37490, 45101, 46510.28]\n",
        "}\n",
        "\n",
        "df_one = pd.DataFrame(dict_one)\n",
        "df_two = pd.DataFrame(dict_two)\n",
        "print(df_one, df_two, sep='\\n\\n')"
      ],
      "metadata": {
        "colab": {
          "base_uri": "https://localhost:8080/"
        },
        "id": "Wa-iaDfLCqC-",
        "outputId": "f452ecee-1935-424f-9211-f2e784d23a7f"
      },
      "execution_count": null,
      "outputs": [
        {
          "output_type": "stream",
          "name": "stdout",
          "text": [
            "     country  population_in_millions\n",
            "0  indonesia                   55.98\n",
            "1   malaysia                    5.45\n",
            "2  singapura                    3.14\n",
            "3   thailand                   67.33\n",
            "4    vietnam                    1.89\n",
            "\n",
            "      country  GDP_per_capita\n",
            "0   indonesia        24900.00\n",
            "1    malaysia        23882.00\n",
            "2  singapuura        37490.00\n",
            "3    thailand        45101.00\n",
            "4     vietnam        46510.28\n"
          ]
        }
      ]
    },
    {
      "cell_type": "code",
      "source": [
        "# mengabungkan dataframe dengan marge\n",
        "df_merge = pd.merge(df_one, df_two, on='country', how='left')\n",
        "df_merge.head()"
      ],
      "metadata": {
        "colab": {
          "base_uri": "https://localhost:8080/",
          "height": 206
        },
        "id": "wWK7qZ_hEP-i",
        "outputId": "2735c0fd-7056-40c1-97f8-086a2c0bc268"
      },
      "execution_count": null,
      "outputs": [
        {
          "output_type": "execute_result",
          "data": {
            "text/plain": [
              "     country  population_in_millions  GDP_per_capita\n",
              "0  indonesia                   55.98        24900.00\n",
              "1   malaysia                    5.45        23882.00\n",
              "2  singapura                    3.14             NaN\n",
              "3   thailand                   67.33        45101.00\n",
              "4    vietnam                    1.89        46510.28"
            ],
            "text/html": [
              "\n",
              "  <div id=\"df-90b215e5-6bb3-4db8-baa3-509b308dd963\" class=\"colab-df-container\">\n",
              "    <div>\n",
              "<style scoped>\n",
              "    .dataframe tbody tr th:only-of-type {\n",
              "        vertical-align: middle;\n",
              "    }\n",
              "\n",
              "    .dataframe tbody tr th {\n",
              "        vertical-align: top;\n",
              "    }\n",
              "\n",
              "    .dataframe thead th {\n",
              "        text-align: right;\n",
              "    }\n",
              "</style>\n",
              "<table border=\"1\" class=\"dataframe\">\n",
              "  <thead>\n",
              "    <tr style=\"text-align: right;\">\n",
              "      <th></th>\n",
              "      <th>country</th>\n",
              "      <th>population_in_millions</th>\n",
              "      <th>GDP_per_capita</th>\n",
              "    </tr>\n",
              "  </thead>\n",
              "  <tbody>\n",
              "    <tr>\n",
              "      <th>0</th>\n",
              "      <td>indonesia</td>\n",
              "      <td>55.98</td>\n",
              "      <td>24900.00</td>\n",
              "    </tr>\n",
              "    <tr>\n",
              "      <th>1</th>\n",
              "      <td>malaysia</td>\n",
              "      <td>5.45</td>\n",
              "      <td>23882.00</td>\n",
              "    </tr>\n",
              "    <tr>\n",
              "      <th>2</th>\n",
              "      <td>singapura</td>\n",
              "      <td>3.14</td>\n",
              "      <td>NaN</td>\n",
              "    </tr>\n",
              "    <tr>\n",
              "      <th>3</th>\n",
              "      <td>thailand</td>\n",
              "      <td>67.33</td>\n",
              "      <td>45101.00</td>\n",
              "    </tr>\n",
              "    <tr>\n",
              "      <th>4</th>\n",
              "      <td>vietnam</td>\n",
              "      <td>1.89</td>\n",
              "      <td>46510.28</td>\n",
              "    </tr>\n",
              "  </tbody>\n",
              "</table>\n",
              "</div>\n",
              "    <div class=\"colab-df-buttons\">\n",
              "\n",
              "  <div class=\"colab-df-container\">\n",
              "    <button class=\"colab-df-convert\" onclick=\"convertToInteractive('df-90b215e5-6bb3-4db8-baa3-509b308dd963')\"\n",
              "            title=\"Convert this dataframe to an interactive table.\"\n",
              "            style=\"display:none;\">\n",
              "\n",
              "  <svg xmlns=\"http://www.w3.org/2000/svg\" height=\"24px\" viewBox=\"0 -960 960 960\">\n",
              "    <path d=\"M120-120v-720h720v720H120Zm60-500h600v-160H180v160Zm220 220h160v-160H400v160Zm0 220h160v-160H400v160ZM180-400h160v-160H180v160Zm440 0h160v-160H620v160ZM180-180h160v-160H180v160Zm440 0h160v-160H620v160Z\"/>\n",
              "  </svg>\n",
              "    </button>\n",
              "\n",
              "  <style>\n",
              "    .colab-df-container {\n",
              "      display:flex;\n",
              "      gap: 12px;\n",
              "    }\n",
              "\n",
              "    .colab-df-convert {\n",
              "      background-color: #E8F0FE;\n",
              "      border: none;\n",
              "      border-radius: 50%;\n",
              "      cursor: pointer;\n",
              "      display: none;\n",
              "      fill: #1967D2;\n",
              "      height: 32px;\n",
              "      padding: 0 0 0 0;\n",
              "      width: 32px;\n",
              "    }\n",
              "\n",
              "    .colab-df-convert:hover {\n",
              "      background-color: #E2EBFA;\n",
              "      box-shadow: 0px 1px 2px rgba(60, 64, 67, 0.3), 0px 1px 3px 1px rgba(60, 64, 67, 0.15);\n",
              "      fill: #174EA6;\n",
              "    }\n",
              "\n",
              "    .colab-df-buttons div {\n",
              "      margin-bottom: 4px;\n",
              "    }\n",
              "\n",
              "    [theme=dark] .colab-df-convert {\n",
              "      background-color: #3B4455;\n",
              "      fill: #D2E3FC;\n",
              "    }\n",
              "\n",
              "    [theme=dark] .colab-df-convert:hover {\n",
              "      background-color: #434B5C;\n",
              "      box-shadow: 0px 1px 3px 1px rgba(0, 0, 0, 0.15);\n",
              "      filter: drop-shadow(0px 1px 2px rgba(0, 0, 0, 0.3));\n",
              "      fill: #FFFFFF;\n",
              "    }\n",
              "  </style>\n",
              "\n",
              "    <script>\n",
              "      const buttonEl =\n",
              "        document.querySelector('#df-90b215e5-6bb3-4db8-baa3-509b308dd963 button.colab-df-convert');\n",
              "      buttonEl.style.display =\n",
              "        google.colab.kernel.accessAllowed ? 'block' : 'none';\n",
              "\n",
              "      async function convertToInteractive(key) {\n",
              "        const element = document.querySelector('#df-90b215e5-6bb3-4db8-baa3-509b308dd963');\n",
              "        const dataTable =\n",
              "          await google.colab.kernel.invokeFunction('convertToInteractive',\n",
              "                                                    [key], {});\n",
              "        if (!dataTable) return;\n",
              "\n",
              "        const docLinkHtml = 'Like what you see? Visit the ' +\n",
              "          '<a target=\"_blank\" href=https://colab.research.google.com/notebooks/data_table.ipynb>data table notebook</a>'\n",
              "          + ' to learn more about interactive tables.';\n",
              "        element.innerHTML = '';\n",
              "        dataTable['output_type'] = 'display_data';\n",
              "        await google.colab.output.renderOutput(dataTable, element);\n",
              "        const docLink = document.createElement('div');\n",
              "        docLink.innerHTML = docLinkHtml;\n",
              "        element.appendChild(docLink);\n",
              "      }\n",
              "    </script>\n",
              "  </div>\n",
              "\n",
              "\n",
              "<div id=\"df-795c5ea3-fa66-4550-843f-ae99b9fff2c9\">\n",
              "  <button class=\"colab-df-quickchart\" onclick=\"quickchart('df-795c5ea3-fa66-4550-843f-ae99b9fff2c9')\"\n",
              "            title=\"Suggest charts\"\n",
              "            style=\"display:none;\">\n",
              "\n",
              "<svg xmlns=\"http://www.w3.org/2000/svg\" height=\"24px\"viewBox=\"0 0 24 24\"\n",
              "     width=\"24px\">\n",
              "    <g>\n",
              "        <path d=\"M19 3H5c-1.1 0-2 .9-2 2v14c0 1.1.9 2 2 2h14c1.1 0 2-.9 2-2V5c0-1.1-.9-2-2-2zM9 17H7v-7h2v7zm4 0h-2V7h2v10zm4 0h-2v-4h2v4z\"/>\n",
              "    </g>\n",
              "</svg>\n",
              "  </button>\n",
              "\n",
              "<style>\n",
              "  .colab-df-quickchart {\n",
              "      --bg-color: #E8F0FE;\n",
              "      --fill-color: #1967D2;\n",
              "      --hover-bg-color: #E2EBFA;\n",
              "      --hover-fill-color: #174EA6;\n",
              "      --disabled-fill-color: #AAA;\n",
              "      --disabled-bg-color: #DDD;\n",
              "  }\n",
              "\n",
              "  [theme=dark] .colab-df-quickchart {\n",
              "      --bg-color: #3B4455;\n",
              "      --fill-color: #D2E3FC;\n",
              "      --hover-bg-color: #434B5C;\n",
              "      --hover-fill-color: #FFFFFF;\n",
              "      --disabled-bg-color: #3B4455;\n",
              "      --disabled-fill-color: #666;\n",
              "  }\n",
              "\n",
              "  .colab-df-quickchart {\n",
              "    background-color: var(--bg-color);\n",
              "    border: none;\n",
              "    border-radius: 50%;\n",
              "    cursor: pointer;\n",
              "    display: none;\n",
              "    fill: var(--fill-color);\n",
              "    height: 32px;\n",
              "    padding: 0;\n",
              "    width: 32px;\n",
              "  }\n",
              "\n",
              "  .colab-df-quickchart:hover {\n",
              "    background-color: var(--hover-bg-color);\n",
              "    box-shadow: 0 1px 2px rgba(60, 64, 67, 0.3), 0 1px 3px 1px rgba(60, 64, 67, 0.15);\n",
              "    fill: var(--button-hover-fill-color);\n",
              "  }\n",
              "\n",
              "  .colab-df-quickchart-complete:disabled,\n",
              "  .colab-df-quickchart-complete:disabled:hover {\n",
              "    background-color: var(--disabled-bg-color);\n",
              "    fill: var(--disabled-fill-color);\n",
              "    box-shadow: none;\n",
              "  }\n",
              "\n",
              "  .colab-df-spinner {\n",
              "    border: 2px solid var(--fill-color);\n",
              "    border-color: transparent;\n",
              "    border-bottom-color: var(--fill-color);\n",
              "    animation:\n",
              "      spin 1s steps(1) infinite;\n",
              "  }\n",
              "\n",
              "  @keyframes spin {\n",
              "    0% {\n",
              "      border-color: transparent;\n",
              "      border-bottom-color: var(--fill-color);\n",
              "      border-left-color: var(--fill-color);\n",
              "    }\n",
              "    20% {\n",
              "      border-color: transparent;\n",
              "      border-left-color: var(--fill-color);\n",
              "      border-top-color: var(--fill-color);\n",
              "    }\n",
              "    30% {\n",
              "      border-color: transparent;\n",
              "      border-left-color: var(--fill-color);\n",
              "      border-top-color: var(--fill-color);\n",
              "      border-right-color: var(--fill-color);\n",
              "    }\n",
              "    40% {\n",
              "      border-color: transparent;\n",
              "      border-right-color: var(--fill-color);\n",
              "      border-top-color: var(--fill-color);\n",
              "    }\n",
              "    60% {\n",
              "      border-color: transparent;\n",
              "      border-right-color: var(--fill-color);\n",
              "    }\n",
              "    80% {\n",
              "      border-color: transparent;\n",
              "      border-right-color: var(--fill-color);\n",
              "      border-bottom-color: var(--fill-color);\n",
              "    }\n",
              "    90% {\n",
              "      border-color: transparent;\n",
              "      border-bottom-color: var(--fill-color);\n",
              "    }\n",
              "  }\n",
              "</style>\n",
              "\n",
              "  <script>\n",
              "    async function quickchart(key) {\n",
              "      const quickchartButtonEl =\n",
              "        document.querySelector('#' + key + ' button');\n",
              "      quickchartButtonEl.disabled = true;  // To prevent multiple clicks.\n",
              "      quickchartButtonEl.classList.add('colab-df-spinner');\n",
              "      try {\n",
              "        const charts = await google.colab.kernel.invokeFunction(\n",
              "            'suggestCharts', [key], {});\n",
              "      } catch (error) {\n",
              "        console.error('Error during call to suggestCharts:', error);\n",
              "      }\n",
              "      quickchartButtonEl.classList.remove('colab-df-spinner');\n",
              "      quickchartButtonEl.classList.add('colab-df-quickchart-complete');\n",
              "    }\n",
              "    (() => {\n",
              "      let quickchartButtonEl =\n",
              "        document.querySelector('#df-795c5ea3-fa66-4550-843f-ae99b9fff2c9 button');\n",
              "      quickchartButtonEl.style.display =\n",
              "        google.colab.kernel.accessAllowed ? 'block' : 'none';\n",
              "    })();\n",
              "  </script>\n",
              "</div>\n",
              "\n",
              "    </div>\n",
              "  </div>\n"
            ],
            "application/vnd.google.colaboratory.intrinsic+json": {
              "type": "dataframe",
              "variable_name": "df_merge",
              "summary": "{\n  \"name\": \"df_merge\",\n  \"rows\": 5,\n  \"fields\": [\n    {\n      \"column\": \"country\",\n      \"properties\": {\n        \"dtype\": \"string\",\n        \"num_unique_values\": 5,\n        \"samples\": [\n          \"malaysia\",\n          \"vietnam\",\n          \"singapura\"\n        ],\n        \"semantic_type\": \"\",\n        \"description\": \"\"\n      }\n    },\n    {\n      \"column\": \"population_in_millions\",\n      \"properties\": {\n        \"dtype\": \"number\",\n        \"std\": 32.1335909913598,\n        \"min\": 1.89,\n        \"max\": 67.33,\n        \"num_unique_values\": 5,\n        \"samples\": [\n          5.45,\n          1.89,\n          3.14\n        ],\n        \"semantic_type\": \"\",\n        \"description\": \"\"\n      }\n    },\n    {\n      \"column\": \"GDP_per_capita\",\n      \"properties\": {\n        \"dtype\": \"number\",\n        \"std\": 12384.102758359202,\n        \"min\": 23882.0,\n        \"max\": 46510.28,\n        \"num_unique_values\": 4,\n        \"samples\": [\n          23882.0,\n          46510.28,\n          24900.0\n        ],\n        \"semantic_type\": \"\",\n        \"description\": \"\"\n      }\n    }\n  ]\n}"
            }
          },
          "metadata": {},
          "execution_count": 27
        }
      ]
    },
    {
      "cell_type": "markdown",
      "source": [
        "Parameter-Paremeter Penting:\n",
        "* left: DataFrame pertama.\n",
        "* right: DataFrame kedua.\n",
        "* how: Jenis join yang akan dilakukan. Nilai-nilainya bisa left, right, outer,  inner. Default adalah inner.\n",
        "* left: Semua baris dari DataFrame kiri dan baris yang cocok dari DataFrame kanan.\n",
        "* right: Semua baris dari DataFrame kanan dan baris yang cocok dari DataFrame kiri.\n",
        "* outer: Gabungan semua baris dari kedua DataFrame.\n",
        "* inner: Hanya baris yang memiliki kecocokan di kedua DataFrame.\n",
        "* on: Nama kolom yang akan digabungkan.\n",
        "* left_on: Kolom di DataFrame kiri yang akan digunakan untuk penggabungan.\n",
        "* right_on: Kolom di DataFrame kanan yang akan digunakan untuk penggabungan.\n",
        "* left_index: Menggunakan indeks di DataFrame kiri untuk penggabungan.\n",
        "* right_index: Menggunakan indeks di DataFrame kanan untuk penggabungan.\n",
        "* suffixes: Tuple dari string untuk ditambahkan ke nama kolom yang tumpang tindih.\n",
        "* indicator: Jika True, menambahkan kolom _merge yang menunjukkan sumber baris yang digabungkan."
      ],
      "metadata": {
        "id": "bKWz2ReUEbkY"
      }
    },
    {
      "cell_type": "code",
      "source": [
        "df_two['country'] = df_two['country'].apply(\n",
        "    lambda x: process.extractOne(x, df_one['country'], scorer=fuzz.partial_ratio)[0])\n",
        "\n",
        "# menggabungkan dataframe\n",
        "df_merge = pd.merge(df_one, df_two, on='country', how='left')\n",
        "print(df_merge.head())"
      ],
      "metadata": {
        "colab": {
          "base_uri": "https://localhost:8080/"
        },
        "id": "CfTCAD8YFdK2",
        "outputId": "15d2d875-f49b-4c68-d72e-bb976c8576cc"
      },
      "execution_count": null,
      "outputs": [
        {
          "output_type": "stream",
          "name": "stdout",
          "text": [
            "     country  population_in_millions  GDP_per_capita\n",
            "0  indonesia                   55.98        24900.00\n",
            "1   malaysia                    5.45        23882.00\n",
            "2  singapura                    3.14        37490.00\n",
            "3   thailand                   67.33        45101.00\n",
            "4    vietnam                    1.89        46510.28\n"
          ]
        }
      ]
    },
    {
      "cell_type": "code",
      "source": [
        "import pandas as pd\n",
        "from fuzzywuzzy import fuzz\n",
        "from fuzzywuzzy import process\n",
        "\n",
        "# Contoh data\n",
        "data_one = {\n",
        "    'country': ['United States', 'Canada', 'United Kingdom', 'Germany', 'France'],\n",
        "    'value_one': [100, 200, 300, 400, 500]\n",
        "}\n",
        "one = pd.DataFrame(data_one)\n",
        "\n",
        "data_two = {\n",
        "    'country': ['USA', 'Canada', 'U K', 'Deutschland', 'France'],\n",
        "    'value_two': [10, 20, 30, 40, 50]\n",
        "}\n",
        "two = pd.DataFrame(data_two)\n",
        "\n",
        "print(one, two, sep='\\n\\n')"
      ],
      "metadata": {
        "colab": {
          "base_uri": "https://localhost:8080/"
        },
        "id": "48Bz9_HDIAPg",
        "outputId": "3970c93d-5776-41bf-a588-81208a1b94ab"
      },
      "execution_count": null,
      "outputs": [
        {
          "output_type": "stream",
          "name": "stdout",
          "text": [
            "          country  value_one\n",
            "0   United States        100\n",
            "1          Canada        200\n",
            "2  United Kingdom        300\n",
            "3         Germany        400\n",
            "4          France        500\n",
            "\n",
            "       country  value_two\n",
            "0          USA         10\n",
            "1       Canada         20\n",
            "2          U K         30\n",
            "3  Deutschland         40\n",
            "4       France         50\n"
          ]
        }
      ]
    },
    {
      "cell_type": "code",
      "source": [
        "def country_matching(country, choice):\n",
        "  best_match=  process.extractOne(country, choice, scorer = fuzz.partial_ratio)\n",
        "  return best_match[0], best_match[0]\n",
        "\n",
        "country_matching('U K', ['United States', 'Canada', 'United Kingdom', 'Germany', 'France'])"
      ],
      "metadata": {
        "colab": {
          "base_uri": "https://localhost:8080/"
        },
        "id": "a5uO34RZJzPC",
        "outputId": "8dba2511-90e7-476d-fac4-92b3815ca814"
      },
      "execution_count": null,
      "outputs": [
        {
          "output_type": "execute_result",
          "data": {
            "text/plain": [
              "('United Kingdom', 'United Kingdom')"
            ]
          },
          "metadata": {},
          "execution_count": 48
        }
      ]
    },
    {
      "cell_type": "code",
      "source": [
        "two['country'] = two['country'].apply(\n",
        "    lambda x: process.extractOne(x, one['country'], scorer= fuzz.partial_ratio)[0]\n",
        ")\n",
        "\n",
        "df_marge = pd.merge(one, two, on='country', how='left')\n",
        "df_marge = df_marge.drop_duplicates(subset=['country'])\n",
        "df_marge"
      ],
      "metadata": {
        "colab": {
          "base_uri": "https://localhost:8080/",
          "height": 206
        },
        "id": "e4nS3LGpIpnE",
        "outputId": "b5bfef7c-3580-4e46-e58f-840e8aa515af"
      },
      "execution_count": null,
      "outputs": [
        {
          "output_type": "execute_result",
          "data": {
            "text/plain": [
              "          country  value_one  value_two\n",
              "0   United States        100       10.0\n",
              "1          Canada        200       20.0\n",
              "3  United Kingdom        300       30.0\n",
              "4         Germany        400        NaN\n",
              "5          France        500       50.0"
            ],
            "text/html": [
              "\n",
              "  <div id=\"df-605eb04c-04b9-4b40-b02f-f88bda6e3adc\" class=\"colab-df-container\">\n",
              "    <div>\n",
              "<style scoped>\n",
              "    .dataframe tbody tr th:only-of-type {\n",
              "        vertical-align: middle;\n",
              "    }\n",
              "\n",
              "    .dataframe tbody tr th {\n",
              "        vertical-align: top;\n",
              "    }\n",
              "\n",
              "    .dataframe thead th {\n",
              "        text-align: right;\n",
              "    }\n",
              "</style>\n",
              "<table border=\"1\" class=\"dataframe\">\n",
              "  <thead>\n",
              "    <tr style=\"text-align: right;\">\n",
              "      <th></th>\n",
              "      <th>country</th>\n",
              "      <th>value_one</th>\n",
              "      <th>value_two</th>\n",
              "    </tr>\n",
              "  </thead>\n",
              "  <tbody>\n",
              "    <tr>\n",
              "      <th>0</th>\n",
              "      <td>United States</td>\n",
              "      <td>100</td>\n",
              "      <td>10.0</td>\n",
              "    </tr>\n",
              "    <tr>\n",
              "      <th>1</th>\n",
              "      <td>Canada</td>\n",
              "      <td>200</td>\n",
              "      <td>20.0</td>\n",
              "    </tr>\n",
              "    <tr>\n",
              "      <th>3</th>\n",
              "      <td>United Kingdom</td>\n",
              "      <td>300</td>\n",
              "      <td>30.0</td>\n",
              "    </tr>\n",
              "    <tr>\n",
              "      <th>4</th>\n",
              "      <td>Germany</td>\n",
              "      <td>400</td>\n",
              "      <td>NaN</td>\n",
              "    </tr>\n",
              "    <tr>\n",
              "      <th>5</th>\n",
              "      <td>France</td>\n",
              "      <td>500</td>\n",
              "      <td>50.0</td>\n",
              "    </tr>\n",
              "  </tbody>\n",
              "</table>\n",
              "</div>\n",
              "    <div class=\"colab-df-buttons\">\n",
              "\n",
              "  <div class=\"colab-df-container\">\n",
              "    <button class=\"colab-df-convert\" onclick=\"convertToInteractive('df-605eb04c-04b9-4b40-b02f-f88bda6e3adc')\"\n",
              "            title=\"Convert this dataframe to an interactive table.\"\n",
              "            style=\"display:none;\">\n",
              "\n",
              "  <svg xmlns=\"http://www.w3.org/2000/svg\" height=\"24px\" viewBox=\"0 -960 960 960\">\n",
              "    <path d=\"M120-120v-720h720v720H120Zm60-500h600v-160H180v160Zm220 220h160v-160H400v160Zm0 220h160v-160H400v160ZM180-400h160v-160H180v160Zm440 0h160v-160H620v160ZM180-180h160v-160H180v160Zm440 0h160v-160H620v160Z\"/>\n",
              "  </svg>\n",
              "    </button>\n",
              "\n",
              "  <style>\n",
              "    .colab-df-container {\n",
              "      display:flex;\n",
              "      gap: 12px;\n",
              "    }\n",
              "\n",
              "    .colab-df-convert {\n",
              "      background-color: #E8F0FE;\n",
              "      border: none;\n",
              "      border-radius: 50%;\n",
              "      cursor: pointer;\n",
              "      display: none;\n",
              "      fill: #1967D2;\n",
              "      height: 32px;\n",
              "      padding: 0 0 0 0;\n",
              "      width: 32px;\n",
              "    }\n",
              "\n",
              "    .colab-df-convert:hover {\n",
              "      background-color: #E2EBFA;\n",
              "      box-shadow: 0px 1px 2px rgba(60, 64, 67, 0.3), 0px 1px 3px 1px rgba(60, 64, 67, 0.15);\n",
              "      fill: #174EA6;\n",
              "    }\n",
              "\n",
              "    .colab-df-buttons div {\n",
              "      margin-bottom: 4px;\n",
              "    }\n",
              "\n",
              "    [theme=dark] .colab-df-convert {\n",
              "      background-color: #3B4455;\n",
              "      fill: #D2E3FC;\n",
              "    }\n",
              "\n",
              "    [theme=dark] .colab-df-convert:hover {\n",
              "      background-color: #434B5C;\n",
              "      box-shadow: 0px 1px 3px 1px rgba(0, 0, 0, 0.15);\n",
              "      filter: drop-shadow(0px 1px 2px rgba(0, 0, 0, 0.3));\n",
              "      fill: #FFFFFF;\n",
              "    }\n",
              "  </style>\n",
              "\n",
              "    <script>\n",
              "      const buttonEl =\n",
              "        document.querySelector('#df-605eb04c-04b9-4b40-b02f-f88bda6e3adc button.colab-df-convert');\n",
              "      buttonEl.style.display =\n",
              "        google.colab.kernel.accessAllowed ? 'block' : 'none';\n",
              "\n",
              "      async function convertToInteractive(key) {\n",
              "        const element = document.querySelector('#df-605eb04c-04b9-4b40-b02f-f88bda6e3adc');\n",
              "        const dataTable =\n",
              "          await google.colab.kernel.invokeFunction('convertToInteractive',\n",
              "                                                    [key], {});\n",
              "        if (!dataTable) return;\n",
              "\n",
              "        const docLinkHtml = 'Like what you see? Visit the ' +\n",
              "          '<a target=\"_blank\" href=https://colab.research.google.com/notebooks/data_table.ipynb>data table notebook</a>'\n",
              "          + ' to learn more about interactive tables.';\n",
              "        element.innerHTML = '';\n",
              "        dataTable['output_type'] = 'display_data';\n",
              "        await google.colab.output.renderOutput(dataTable, element);\n",
              "        const docLink = document.createElement('div');\n",
              "        docLink.innerHTML = docLinkHtml;\n",
              "        element.appendChild(docLink);\n",
              "      }\n",
              "    </script>\n",
              "  </div>\n",
              "\n",
              "\n",
              "<div id=\"df-9e23fa65-7656-4123-af70-eeb6dd8f7773\">\n",
              "  <button class=\"colab-df-quickchart\" onclick=\"quickchart('df-9e23fa65-7656-4123-af70-eeb6dd8f7773')\"\n",
              "            title=\"Suggest charts\"\n",
              "            style=\"display:none;\">\n",
              "\n",
              "<svg xmlns=\"http://www.w3.org/2000/svg\" height=\"24px\"viewBox=\"0 0 24 24\"\n",
              "     width=\"24px\">\n",
              "    <g>\n",
              "        <path d=\"M19 3H5c-1.1 0-2 .9-2 2v14c0 1.1.9 2 2 2h14c1.1 0 2-.9 2-2V5c0-1.1-.9-2-2-2zM9 17H7v-7h2v7zm4 0h-2V7h2v10zm4 0h-2v-4h2v4z\"/>\n",
              "    </g>\n",
              "</svg>\n",
              "  </button>\n",
              "\n",
              "<style>\n",
              "  .colab-df-quickchart {\n",
              "      --bg-color: #E8F0FE;\n",
              "      --fill-color: #1967D2;\n",
              "      --hover-bg-color: #E2EBFA;\n",
              "      --hover-fill-color: #174EA6;\n",
              "      --disabled-fill-color: #AAA;\n",
              "      --disabled-bg-color: #DDD;\n",
              "  }\n",
              "\n",
              "  [theme=dark] .colab-df-quickchart {\n",
              "      --bg-color: #3B4455;\n",
              "      --fill-color: #D2E3FC;\n",
              "      --hover-bg-color: #434B5C;\n",
              "      --hover-fill-color: #FFFFFF;\n",
              "      --disabled-bg-color: #3B4455;\n",
              "      --disabled-fill-color: #666;\n",
              "  }\n",
              "\n",
              "  .colab-df-quickchart {\n",
              "    background-color: var(--bg-color);\n",
              "    border: none;\n",
              "    border-radius: 50%;\n",
              "    cursor: pointer;\n",
              "    display: none;\n",
              "    fill: var(--fill-color);\n",
              "    height: 32px;\n",
              "    padding: 0;\n",
              "    width: 32px;\n",
              "  }\n",
              "\n",
              "  .colab-df-quickchart:hover {\n",
              "    background-color: var(--hover-bg-color);\n",
              "    box-shadow: 0 1px 2px rgba(60, 64, 67, 0.3), 0 1px 3px 1px rgba(60, 64, 67, 0.15);\n",
              "    fill: var(--button-hover-fill-color);\n",
              "  }\n",
              "\n",
              "  .colab-df-quickchart-complete:disabled,\n",
              "  .colab-df-quickchart-complete:disabled:hover {\n",
              "    background-color: var(--disabled-bg-color);\n",
              "    fill: var(--disabled-fill-color);\n",
              "    box-shadow: none;\n",
              "  }\n",
              "\n",
              "  .colab-df-spinner {\n",
              "    border: 2px solid var(--fill-color);\n",
              "    border-color: transparent;\n",
              "    border-bottom-color: var(--fill-color);\n",
              "    animation:\n",
              "      spin 1s steps(1) infinite;\n",
              "  }\n",
              "\n",
              "  @keyframes spin {\n",
              "    0% {\n",
              "      border-color: transparent;\n",
              "      border-bottom-color: var(--fill-color);\n",
              "      border-left-color: var(--fill-color);\n",
              "    }\n",
              "    20% {\n",
              "      border-color: transparent;\n",
              "      border-left-color: var(--fill-color);\n",
              "      border-top-color: var(--fill-color);\n",
              "    }\n",
              "    30% {\n",
              "      border-color: transparent;\n",
              "      border-left-color: var(--fill-color);\n",
              "      border-top-color: var(--fill-color);\n",
              "      border-right-color: var(--fill-color);\n",
              "    }\n",
              "    40% {\n",
              "      border-color: transparent;\n",
              "      border-right-color: var(--fill-color);\n",
              "      border-top-color: var(--fill-color);\n",
              "    }\n",
              "    60% {\n",
              "      border-color: transparent;\n",
              "      border-right-color: var(--fill-color);\n",
              "    }\n",
              "    80% {\n",
              "      border-color: transparent;\n",
              "      border-right-color: var(--fill-color);\n",
              "      border-bottom-color: var(--fill-color);\n",
              "    }\n",
              "    90% {\n",
              "      border-color: transparent;\n",
              "      border-bottom-color: var(--fill-color);\n",
              "    }\n",
              "  }\n",
              "</style>\n",
              "\n",
              "  <script>\n",
              "    async function quickchart(key) {\n",
              "      const quickchartButtonEl =\n",
              "        document.querySelector('#' + key + ' button');\n",
              "      quickchartButtonEl.disabled = true;  // To prevent multiple clicks.\n",
              "      quickchartButtonEl.classList.add('colab-df-spinner');\n",
              "      try {\n",
              "        const charts = await google.colab.kernel.invokeFunction(\n",
              "            'suggestCharts', [key], {});\n",
              "      } catch (error) {\n",
              "        console.error('Error during call to suggestCharts:', error);\n",
              "      }\n",
              "      quickchartButtonEl.classList.remove('colab-df-spinner');\n",
              "      quickchartButtonEl.classList.add('colab-df-quickchart-complete');\n",
              "    }\n",
              "    (() => {\n",
              "      let quickchartButtonEl =\n",
              "        document.querySelector('#df-9e23fa65-7656-4123-af70-eeb6dd8f7773 button');\n",
              "      quickchartButtonEl.style.display =\n",
              "        google.colab.kernel.accessAllowed ? 'block' : 'none';\n",
              "    })();\n",
              "  </script>\n",
              "</div>\n",
              "\n",
              "  <div id=\"id_7332d002-631f-4f6e-9ac3-0c547c0e2bfb\">\n",
              "    <style>\n",
              "      .colab-df-generate {\n",
              "        background-color: #E8F0FE;\n",
              "        border: none;\n",
              "        border-radius: 50%;\n",
              "        cursor: pointer;\n",
              "        display: none;\n",
              "        fill: #1967D2;\n",
              "        height: 32px;\n",
              "        padding: 0 0 0 0;\n",
              "        width: 32px;\n",
              "      }\n",
              "\n",
              "      .colab-df-generate:hover {\n",
              "        background-color: #E2EBFA;\n",
              "        box-shadow: 0px 1px 2px rgba(60, 64, 67, 0.3), 0px 1px 3px 1px rgba(60, 64, 67, 0.15);\n",
              "        fill: #174EA6;\n",
              "      }\n",
              "\n",
              "      [theme=dark] .colab-df-generate {\n",
              "        background-color: #3B4455;\n",
              "        fill: #D2E3FC;\n",
              "      }\n",
              "\n",
              "      [theme=dark] .colab-df-generate:hover {\n",
              "        background-color: #434B5C;\n",
              "        box-shadow: 0px 1px 3px 1px rgba(0, 0, 0, 0.15);\n",
              "        filter: drop-shadow(0px 1px 2px rgba(0, 0, 0, 0.3));\n",
              "        fill: #FFFFFF;\n",
              "      }\n",
              "    </style>\n",
              "    <button class=\"colab-df-generate\" onclick=\"generateWithVariable('df_marge')\"\n",
              "            title=\"Generate code using this dataframe.\"\n",
              "            style=\"display:none;\">\n",
              "\n",
              "  <svg xmlns=\"http://www.w3.org/2000/svg\" height=\"24px\"viewBox=\"0 0 24 24\"\n",
              "       width=\"24px\">\n",
              "    <path d=\"M7,19H8.4L18.45,9,17,7.55,7,17.6ZM5,21V16.75L18.45,3.32a2,2,0,0,1,2.83,0l1.4,1.43a1.91,1.91,0,0,1,.58,1.4,1.91,1.91,0,0,1-.58,1.4L9.25,21ZM18.45,9,17,7.55Zm-12,3A5.31,5.31,0,0,0,4.9,8.1,5.31,5.31,0,0,0,1,6.5,5.31,5.31,0,0,0,4.9,4.9,5.31,5.31,0,0,0,6.5,1,5.31,5.31,0,0,0,8.1,4.9,5.31,5.31,0,0,0,12,6.5,5.46,5.46,0,0,0,6.5,12Z\"/>\n",
              "  </svg>\n",
              "    </button>\n",
              "    <script>\n",
              "      (() => {\n",
              "      const buttonEl =\n",
              "        document.querySelector('#id_7332d002-631f-4f6e-9ac3-0c547c0e2bfb button.colab-df-generate');\n",
              "      buttonEl.style.display =\n",
              "        google.colab.kernel.accessAllowed ? 'block' : 'none';\n",
              "\n",
              "      buttonEl.onclick = () => {\n",
              "        google.colab.notebook.generateWithVariable('df_marge');\n",
              "      }\n",
              "      })();\n",
              "    </script>\n",
              "  </div>\n",
              "\n",
              "    </div>\n",
              "  </div>\n"
            ],
            "application/vnd.google.colaboratory.intrinsic+json": {
              "type": "dataframe",
              "variable_name": "df_marge",
              "summary": "{\n  \"name\": \"df_marge\",\n  \"rows\": 5,\n  \"fields\": [\n    {\n      \"column\": \"country\",\n      \"properties\": {\n        \"dtype\": \"string\",\n        \"num_unique_values\": 5,\n        \"samples\": [\n          \"Canada\",\n          \"France\",\n          \"United Kingdom\"\n        ],\n        \"semantic_type\": \"\",\n        \"description\": \"\"\n      }\n    },\n    {\n      \"column\": \"value_one\",\n      \"properties\": {\n        \"dtype\": \"number\",\n        \"std\": 158,\n        \"min\": 100,\n        \"max\": 500,\n        \"num_unique_values\": 5,\n        \"samples\": [\n          200,\n          500,\n          300\n        ],\n        \"semantic_type\": \"\",\n        \"description\": \"\"\n      }\n    },\n    {\n      \"column\": \"value_two\",\n      \"properties\": {\n        \"dtype\": \"number\",\n        \"std\": 17.07825127659933,\n        \"min\": 10.0,\n        \"max\": 50.0,\n        \"num_unique_values\": 4,\n        \"samples\": [\n          20.0,\n          50.0,\n          10.0\n        ],\n        \"semantic_type\": \"\",\n        \"description\": \"\"\n      }\n    }\n  ]\n}"
            }
          },
          "metadata": {},
          "execution_count": 75
        }
      ]
    },
    {
      "cell_type": "code",
      "source": [
        "# menambahkan rata\n",
        "mean = df_marge['value_two'].mean()\n",
        "\n",
        "# memasukan pada dataframe\n",
        "df_marge['value_two'] = df_marge['value_two'].fillna(mean)\n",
        "\n",
        "df_marge"
      ],
      "metadata": {
        "colab": {
          "base_uri": "https://localhost:8080/",
          "height": 206
        },
        "id": "kimlB0hLNIZS",
        "outputId": "7c836b97-089d-48a2-a80d-76c624f40240"
      },
      "execution_count": null,
      "outputs": [
        {
          "output_type": "execute_result",
          "data": {
            "text/plain": [
              "          country  value_one  value_two\n",
              "0   United States        100       10.0\n",
              "1          Canada        200       20.0\n",
              "3  United Kingdom        300       30.0\n",
              "4         Germany        400       27.5\n",
              "5          France        500       50.0"
            ],
            "text/html": [
              "\n",
              "  <div id=\"df-87af28e1-5ab1-469c-8200-68b1114fbd12\" class=\"colab-df-container\">\n",
              "    <div>\n",
              "<style scoped>\n",
              "    .dataframe tbody tr th:only-of-type {\n",
              "        vertical-align: middle;\n",
              "    }\n",
              "\n",
              "    .dataframe tbody tr th {\n",
              "        vertical-align: top;\n",
              "    }\n",
              "\n",
              "    .dataframe thead th {\n",
              "        text-align: right;\n",
              "    }\n",
              "</style>\n",
              "<table border=\"1\" class=\"dataframe\">\n",
              "  <thead>\n",
              "    <tr style=\"text-align: right;\">\n",
              "      <th></th>\n",
              "      <th>country</th>\n",
              "      <th>value_one</th>\n",
              "      <th>value_two</th>\n",
              "    </tr>\n",
              "  </thead>\n",
              "  <tbody>\n",
              "    <tr>\n",
              "      <th>0</th>\n",
              "      <td>United States</td>\n",
              "      <td>100</td>\n",
              "      <td>10.0</td>\n",
              "    </tr>\n",
              "    <tr>\n",
              "      <th>1</th>\n",
              "      <td>Canada</td>\n",
              "      <td>200</td>\n",
              "      <td>20.0</td>\n",
              "    </tr>\n",
              "    <tr>\n",
              "      <th>3</th>\n",
              "      <td>United Kingdom</td>\n",
              "      <td>300</td>\n",
              "      <td>30.0</td>\n",
              "    </tr>\n",
              "    <tr>\n",
              "      <th>4</th>\n",
              "      <td>Germany</td>\n",
              "      <td>400</td>\n",
              "      <td>27.5</td>\n",
              "    </tr>\n",
              "    <tr>\n",
              "      <th>5</th>\n",
              "      <td>France</td>\n",
              "      <td>500</td>\n",
              "      <td>50.0</td>\n",
              "    </tr>\n",
              "  </tbody>\n",
              "</table>\n",
              "</div>\n",
              "    <div class=\"colab-df-buttons\">\n",
              "\n",
              "  <div class=\"colab-df-container\">\n",
              "    <button class=\"colab-df-convert\" onclick=\"convertToInteractive('df-87af28e1-5ab1-469c-8200-68b1114fbd12')\"\n",
              "            title=\"Convert this dataframe to an interactive table.\"\n",
              "            style=\"display:none;\">\n",
              "\n",
              "  <svg xmlns=\"http://www.w3.org/2000/svg\" height=\"24px\" viewBox=\"0 -960 960 960\">\n",
              "    <path d=\"M120-120v-720h720v720H120Zm60-500h600v-160H180v160Zm220 220h160v-160H400v160Zm0 220h160v-160H400v160ZM180-400h160v-160H180v160Zm440 0h160v-160H620v160ZM180-180h160v-160H180v160Zm440 0h160v-160H620v160Z\"/>\n",
              "  </svg>\n",
              "    </button>\n",
              "\n",
              "  <style>\n",
              "    .colab-df-container {\n",
              "      display:flex;\n",
              "      gap: 12px;\n",
              "    }\n",
              "\n",
              "    .colab-df-convert {\n",
              "      background-color: #E8F0FE;\n",
              "      border: none;\n",
              "      border-radius: 50%;\n",
              "      cursor: pointer;\n",
              "      display: none;\n",
              "      fill: #1967D2;\n",
              "      height: 32px;\n",
              "      padding: 0 0 0 0;\n",
              "      width: 32px;\n",
              "    }\n",
              "\n",
              "    .colab-df-convert:hover {\n",
              "      background-color: #E2EBFA;\n",
              "      box-shadow: 0px 1px 2px rgba(60, 64, 67, 0.3), 0px 1px 3px 1px rgba(60, 64, 67, 0.15);\n",
              "      fill: #174EA6;\n",
              "    }\n",
              "\n",
              "    .colab-df-buttons div {\n",
              "      margin-bottom: 4px;\n",
              "    }\n",
              "\n",
              "    [theme=dark] .colab-df-convert {\n",
              "      background-color: #3B4455;\n",
              "      fill: #D2E3FC;\n",
              "    }\n",
              "\n",
              "    [theme=dark] .colab-df-convert:hover {\n",
              "      background-color: #434B5C;\n",
              "      box-shadow: 0px 1px 3px 1px rgba(0, 0, 0, 0.15);\n",
              "      filter: drop-shadow(0px 1px 2px rgba(0, 0, 0, 0.3));\n",
              "      fill: #FFFFFF;\n",
              "    }\n",
              "  </style>\n",
              "\n",
              "    <script>\n",
              "      const buttonEl =\n",
              "        document.querySelector('#df-87af28e1-5ab1-469c-8200-68b1114fbd12 button.colab-df-convert');\n",
              "      buttonEl.style.display =\n",
              "        google.colab.kernel.accessAllowed ? 'block' : 'none';\n",
              "\n",
              "      async function convertToInteractive(key) {\n",
              "        const element = document.querySelector('#df-87af28e1-5ab1-469c-8200-68b1114fbd12');\n",
              "        const dataTable =\n",
              "          await google.colab.kernel.invokeFunction('convertToInteractive',\n",
              "                                                    [key], {});\n",
              "        if (!dataTable) return;\n",
              "\n",
              "        const docLinkHtml = 'Like what you see? Visit the ' +\n",
              "          '<a target=\"_blank\" href=https://colab.research.google.com/notebooks/data_table.ipynb>data table notebook</a>'\n",
              "          + ' to learn more about interactive tables.';\n",
              "        element.innerHTML = '';\n",
              "        dataTable['output_type'] = 'display_data';\n",
              "        await google.colab.output.renderOutput(dataTable, element);\n",
              "        const docLink = document.createElement('div');\n",
              "        docLink.innerHTML = docLinkHtml;\n",
              "        element.appendChild(docLink);\n",
              "      }\n",
              "    </script>\n",
              "  </div>\n",
              "\n",
              "\n",
              "<div id=\"df-19602f66-b62f-4b4c-84dd-f878ad0880e6\">\n",
              "  <button class=\"colab-df-quickchart\" onclick=\"quickchart('df-19602f66-b62f-4b4c-84dd-f878ad0880e6')\"\n",
              "            title=\"Suggest charts\"\n",
              "            style=\"display:none;\">\n",
              "\n",
              "<svg xmlns=\"http://www.w3.org/2000/svg\" height=\"24px\"viewBox=\"0 0 24 24\"\n",
              "     width=\"24px\">\n",
              "    <g>\n",
              "        <path d=\"M19 3H5c-1.1 0-2 .9-2 2v14c0 1.1.9 2 2 2h14c1.1 0 2-.9 2-2V5c0-1.1-.9-2-2-2zM9 17H7v-7h2v7zm4 0h-2V7h2v10zm4 0h-2v-4h2v4z\"/>\n",
              "    </g>\n",
              "</svg>\n",
              "  </button>\n",
              "\n",
              "<style>\n",
              "  .colab-df-quickchart {\n",
              "      --bg-color: #E8F0FE;\n",
              "      --fill-color: #1967D2;\n",
              "      --hover-bg-color: #E2EBFA;\n",
              "      --hover-fill-color: #174EA6;\n",
              "      --disabled-fill-color: #AAA;\n",
              "      --disabled-bg-color: #DDD;\n",
              "  }\n",
              "\n",
              "  [theme=dark] .colab-df-quickchart {\n",
              "      --bg-color: #3B4455;\n",
              "      --fill-color: #D2E3FC;\n",
              "      --hover-bg-color: #434B5C;\n",
              "      --hover-fill-color: #FFFFFF;\n",
              "      --disabled-bg-color: #3B4455;\n",
              "      --disabled-fill-color: #666;\n",
              "  }\n",
              "\n",
              "  .colab-df-quickchart {\n",
              "    background-color: var(--bg-color);\n",
              "    border: none;\n",
              "    border-radius: 50%;\n",
              "    cursor: pointer;\n",
              "    display: none;\n",
              "    fill: var(--fill-color);\n",
              "    height: 32px;\n",
              "    padding: 0;\n",
              "    width: 32px;\n",
              "  }\n",
              "\n",
              "  .colab-df-quickchart:hover {\n",
              "    background-color: var(--hover-bg-color);\n",
              "    box-shadow: 0 1px 2px rgba(60, 64, 67, 0.3), 0 1px 3px 1px rgba(60, 64, 67, 0.15);\n",
              "    fill: var(--button-hover-fill-color);\n",
              "  }\n",
              "\n",
              "  .colab-df-quickchart-complete:disabled,\n",
              "  .colab-df-quickchart-complete:disabled:hover {\n",
              "    background-color: var(--disabled-bg-color);\n",
              "    fill: var(--disabled-fill-color);\n",
              "    box-shadow: none;\n",
              "  }\n",
              "\n",
              "  .colab-df-spinner {\n",
              "    border: 2px solid var(--fill-color);\n",
              "    border-color: transparent;\n",
              "    border-bottom-color: var(--fill-color);\n",
              "    animation:\n",
              "      spin 1s steps(1) infinite;\n",
              "  }\n",
              "\n",
              "  @keyframes spin {\n",
              "    0% {\n",
              "      border-color: transparent;\n",
              "      border-bottom-color: var(--fill-color);\n",
              "      border-left-color: var(--fill-color);\n",
              "    }\n",
              "    20% {\n",
              "      border-color: transparent;\n",
              "      border-left-color: var(--fill-color);\n",
              "      border-top-color: var(--fill-color);\n",
              "    }\n",
              "    30% {\n",
              "      border-color: transparent;\n",
              "      border-left-color: var(--fill-color);\n",
              "      border-top-color: var(--fill-color);\n",
              "      border-right-color: var(--fill-color);\n",
              "    }\n",
              "    40% {\n",
              "      border-color: transparent;\n",
              "      border-right-color: var(--fill-color);\n",
              "      border-top-color: var(--fill-color);\n",
              "    }\n",
              "    60% {\n",
              "      border-color: transparent;\n",
              "      border-right-color: var(--fill-color);\n",
              "    }\n",
              "    80% {\n",
              "      border-color: transparent;\n",
              "      border-right-color: var(--fill-color);\n",
              "      border-bottom-color: var(--fill-color);\n",
              "    }\n",
              "    90% {\n",
              "      border-color: transparent;\n",
              "      border-bottom-color: var(--fill-color);\n",
              "    }\n",
              "  }\n",
              "</style>\n",
              "\n",
              "  <script>\n",
              "    async function quickchart(key) {\n",
              "      const quickchartButtonEl =\n",
              "        document.querySelector('#' + key + ' button');\n",
              "      quickchartButtonEl.disabled = true;  // To prevent multiple clicks.\n",
              "      quickchartButtonEl.classList.add('colab-df-spinner');\n",
              "      try {\n",
              "        const charts = await google.colab.kernel.invokeFunction(\n",
              "            'suggestCharts', [key], {});\n",
              "      } catch (error) {\n",
              "        console.error('Error during call to suggestCharts:', error);\n",
              "      }\n",
              "      quickchartButtonEl.classList.remove('colab-df-spinner');\n",
              "      quickchartButtonEl.classList.add('colab-df-quickchart-complete');\n",
              "    }\n",
              "    (() => {\n",
              "      let quickchartButtonEl =\n",
              "        document.querySelector('#df-19602f66-b62f-4b4c-84dd-f878ad0880e6 button');\n",
              "      quickchartButtonEl.style.display =\n",
              "        google.colab.kernel.accessAllowed ? 'block' : 'none';\n",
              "    })();\n",
              "  </script>\n",
              "</div>\n",
              "\n",
              "  <div id=\"id_16b62c18-97bc-433a-aca7-cd959285279e\">\n",
              "    <style>\n",
              "      .colab-df-generate {\n",
              "        background-color: #E8F0FE;\n",
              "        border: none;\n",
              "        border-radius: 50%;\n",
              "        cursor: pointer;\n",
              "        display: none;\n",
              "        fill: #1967D2;\n",
              "        height: 32px;\n",
              "        padding: 0 0 0 0;\n",
              "        width: 32px;\n",
              "      }\n",
              "\n",
              "      .colab-df-generate:hover {\n",
              "        background-color: #E2EBFA;\n",
              "        box-shadow: 0px 1px 2px rgba(60, 64, 67, 0.3), 0px 1px 3px 1px rgba(60, 64, 67, 0.15);\n",
              "        fill: #174EA6;\n",
              "      }\n",
              "\n",
              "      [theme=dark] .colab-df-generate {\n",
              "        background-color: #3B4455;\n",
              "        fill: #D2E3FC;\n",
              "      }\n",
              "\n",
              "      [theme=dark] .colab-df-generate:hover {\n",
              "        background-color: #434B5C;\n",
              "        box-shadow: 0px 1px 3px 1px rgba(0, 0, 0, 0.15);\n",
              "        filter: drop-shadow(0px 1px 2px rgba(0, 0, 0, 0.3));\n",
              "        fill: #FFFFFF;\n",
              "      }\n",
              "    </style>\n",
              "    <button class=\"colab-df-generate\" onclick=\"generateWithVariable('df_marge')\"\n",
              "            title=\"Generate code using this dataframe.\"\n",
              "            style=\"display:none;\">\n",
              "\n",
              "  <svg xmlns=\"http://www.w3.org/2000/svg\" height=\"24px\"viewBox=\"0 0 24 24\"\n",
              "       width=\"24px\">\n",
              "    <path d=\"M7,19H8.4L18.45,9,17,7.55,7,17.6ZM5,21V16.75L18.45,3.32a2,2,0,0,1,2.83,0l1.4,1.43a1.91,1.91,0,0,1,.58,1.4,1.91,1.91,0,0,1-.58,1.4L9.25,21ZM18.45,9,17,7.55Zm-12,3A5.31,5.31,0,0,0,4.9,8.1,5.31,5.31,0,0,0,1,6.5,5.31,5.31,0,0,0,4.9,4.9,5.31,5.31,0,0,0,6.5,1,5.31,5.31,0,0,0,8.1,4.9,5.31,5.31,0,0,0,12,6.5,5.46,5.46,0,0,0,6.5,12Z\"/>\n",
              "  </svg>\n",
              "    </button>\n",
              "    <script>\n",
              "      (() => {\n",
              "      const buttonEl =\n",
              "        document.querySelector('#id_16b62c18-97bc-433a-aca7-cd959285279e button.colab-df-generate');\n",
              "      buttonEl.style.display =\n",
              "        google.colab.kernel.accessAllowed ? 'block' : 'none';\n",
              "\n",
              "      buttonEl.onclick = () => {\n",
              "        google.colab.notebook.generateWithVariable('df_marge');\n",
              "      }\n",
              "      })();\n",
              "    </script>\n",
              "  </div>\n",
              "\n",
              "    </div>\n",
              "  </div>\n"
            ],
            "application/vnd.google.colaboratory.intrinsic+json": {
              "type": "dataframe",
              "variable_name": "df_marge",
              "summary": "{\n  \"name\": \"df_marge\",\n  \"rows\": 5,\n  \"fields\": [\n    {\n      \"column\": \"country\",\n      \"properties\": {\n        \"dtype\": \"string\",\n        \"num_unique_values\": 5,\n        \"samples\": [\n          \"Canada\",\n          \"France\",\n          \"United Kingdom\"\n        ],\n        \"semantic_type\": \"\",\n        \"description\": \"\"\n      }\n    },\n    {\n      \"column\": \"value_one\",\n      \"properties\": {\n        \"dtype\": \"number\",\n        \"std\": 158,\n        \"min\": 100,\n        \"max\": 500,\n        \"num_unique_values\": 5,\n        \"samples\": [\n          200,\n          500,\n          300\n        ],\n        \"semantic_type\": \"\",\n        \"description\": \"\"\n      }\n    },\n    {\n      \"column\": \"value_two\",\n      \"properties\": {\n        \"dtype\": \"number\",\n        \"std\": 14.79019945774904,\n        \"min\": 10.0,\n        \"max\": 50.0,\n        \"num_unique_values\": 5,\n        \"samples\": [\n          20.0,\n          50.0,\n          30.0\n        ],\n        \"semantic_type\": \"\",\n        \"description\": \"\"\n      }\n    }\n  ]\n}"
            }
          },
          "metadata": {},
          "execution_count": 76
        }
      ]
    },
    {
      "cell_type": "markdown",
      "source": [
        "## Sentimen Analysis"
      ],
      "metadata": {
        "id": "TxDjRRNSN_IA"
      }
    },
    {
      "cell_type": "markdown",
      "source": [
        "text blob adalah pustka python yg digunakan untuk memperoses data tekstual. kegunaannya menyelesaikan task task pmerosesan bahasa alami(NLP)."
      ],
      "metadata": {
        "id": "2v3I98V4OCcL"
      }
    },
    {
      "cell_type": "code",
      "source": [
        "from textblob import TextBlob\n",
        "\n",
        "# teks berupa string\n",
        "teks_1 = \"The Gojek application has very good service\"\n",
        "teks_2 = \"The Gojek application has poor service\"\n",
        "teks_3 = \"The Gojek application has decent service\"\n",
        "teks_4 = \"Gojek was founded in 2010 in Jakarta, Indonesia\"\n",
        "\n",
        "# mengecek polariti\n",
        "p_1 = TextBlob(teks_1).sentiment.polarity\n",
        "p_2 = TextBlob(teks_2).sentiment.polarity\n",
        "p_3 = TextBlob(teks_3).sentiment.polarity\n",
        "p_4 = TextBlob(teks_4).sentiment.polarity\n",
        "\n",
        "# mengecek apakah teks subjektik/objektif\n",
        "\n",
        "s_1 = TextBlob(teks_1).sentiment.subjectivity\n",
        "s_2 = TextBlob(teks_2).sentiment.subjectivity\n",
        "s_3 = TextBlob(teks_3).sentiment.subjectivity\n",
        "s_4 = TextBlob(teks_4).sentiment.subjectivity\n",
        "\n",
        "print(\"===Subjetivity===\")\n",
        "print(\"Subjektifitas dari teks 1: \", s_1)\n",
        "print(\"Subjektifitas dari teks 2: \", s_2)\n",
        "print(\"Subjektifitas dari teks 3: \", s_3)\n",
        "print(\"Subjektifitas dari teks 4: \", s_4)\n",
        "print(\"===Polarity===\")\n",
        "print(\"Polarity dari teks 1: \", p_1)\n",
        "print(\"Polarity dari teks 2: \", p_2)\n",
        "print(\"Polarity dari teks 3: \", p_3)\n",
        "print(\"Polarity dari teks 4: \", p_4)"
      ],
      "metadata": {
        "colab": {
          "base_uri": "https://localhost:8080/"
        },
        "id": "Ywdbl9IGkTvB",
        "outputId": "cba7b885-023d-4b1f-9503-361a35657952"
      },
      "execution_count": 19,
      "outputs": [
        {
          "output_type": "stream",
          "name": "stdout",
          "text": [
            "===Subjetivity===\n",
            "Subjektifitas dari teks 1:  0.7800000000000001\n",
            "Subjektifitas dari teks 2:  0.6\n",
            "Subjektifitas dari teks 3:  0.6666666666666666\n",
            "Subjektifitas dari teks 4:  0.0\n",
            "===Polarity===\n",
            "Polarity dari teks 1:  0.9099999999999999\n",
            "Polarity dari teks 2:  -0.4\n",
            "Polarity dari teks 3:  0.16666666666666666\n",
            "Polarity dari teks 4:  0.0\n"
          ]
        }
      ]
    },
    {
      "cell_type": "code",
      "source": [
        "def deteriman_sentimen(polarity):\n",
        "  if polarity > 0:\n",
        "    return 'Positive'\n",
        "  elif polarity < 0:\n",
        "    return 'Negative'\n",
        "  else:\n",
        "    return 'Neutral'\n",
        "\n",
        "teks1_determinan = deteriman_sentimen(p_1)\n",
        "teks2_determinan = deteriman_sentimen(p_2)\n",
        "teks_3_determinan = deteriman_sentimen(p_3)\n",
        "teks_4_determinan = deteriman_sentimen(p_4)\n",
        "\n",
        "\n",
        "print(f\"sentimen : {teks1_determinan}\")\n",
        "print(f\"sentimen : {teks2_determinan}\")\n",
        "print(f\"sentimen : {teks_3_determinan}\")\n",
        "print(f\"sentimen : {teks_4_determinan}\")"
      ],
      "metadata": {
        "colab": {
          "base_uri": "https://localhost:8080/"
        },
        "id": "SQb5lQEOns8r",
        "outputId": "6fd98717-e03f-4428-e96f-d3a55128bc2e"
      },
      "execution_count": 20,
      "outputs": [
        {
          "output_type": "stream",
          "name": "stdout",
          "text": [
            "sentimen : Positive\n",
            "sentimen : Negative\n",
            "sentimen : Positive\n",
            "sentimen : Neutral\n"
          ]
        }
      ]
    },
    {
      "cell_type": "code",
      "source": [
        "def determinan_subjektifitas(subjectivity):\n",
        "  if subjectivity > 0.5:\n",
        "    return 'Subjektf'\n",
        "  else:\n",
        "    return 'Objektif'\n",
        "\n",
        "teks1_subjektifitas = determinan_subjektifitas(s_1)\n",
        "teks2_subjektifitas = determinan_subjektifitas(s_2)\n",
        "teks3_subjektifitas = determinan_subjektifitas(s_3)\n",
        "teks4_subjektifitas = determinan_subjektifitas(s_4)\n",
        "\n",
        "print(f\"subjektifitas : {teks1_subjektifitas}\")\n",
        "print(f\"subjektifitas : {teks2_subjektifitas}\")\n",
        "print(f\"subjektifitas : {teks3_subjektifitas}\")\n",
        "print(f\"subjektifitas : {teks4_subjektifitas}\")"
      ],
      "metadata": {
        "colab": {
          "base_uri": "https://localhost:8080/"
        },
        "id": "RGEUkhY-rd9w",
        "outputId": "daf0b27e-f19a-4e58-eedb-956888cfa3bc"
      },
      "execution_count": 21,
      "outputs": [
        {
          "output_type": "stream",
          "name": "stdout",
          "text": [
            "subjektifitas : Subjektf\n",
            "subjektifitas : Subjektf\n",
            "subjektifitas : Subjektf\n",
            "subjektifitas : Objektif\n"
          ]
        }
      ]
    },
    {
      "cell_type": "code",
      "source": [
        "!pip install vaderSentiment"
      ],
      "metadata": {
        "colab": {
          "base_uri": "https://localhost:8080/"
        },
        "id": "-85IEiHk99mF",
        "outputId": "9e0620f4-00c1-4b2e-b229-b8e19bed86cc"
      },
      "execution_count": 23,
      "outputs": [
        {
          "output_type": "stream",
          "name": "stdout",
          "text": [
            "Collecting vaderSentiment\n",
            "  Downloading vaderSentiment-3.3.2-py2.py3-none-any.whl (125 kB)\n",
            "\u001b[2K     \u001b[90m━━━━━━━━━━━━━━━━━━━━━━━━━━━━━━━━━━━━━━━━\u001b[0m \u001b[32m126.0/126.0 kB\u001b[0m \u001b[31m1.2 MB/s\u001b[0m eta \u001b[36m0:00:00\u001b[0m\n",
            "\u001b[?25hRequirement already satisfied: requests in /usr/local/lib/python3.10/dist-packages (from vaderSentiment) (2.31.0)\n",
            "Requirement already satisfied: charset-normalizer<4,>=2 in /usr/local/lib/python3.10/dist-packages (from requests->vaderSentiment) (3.3.2)\n",
            "Requirement already satisfied: idna<4,>=2.5 in /usr/local/lib/python3.10/dist-packages (from requests->vaderSentiment) (3.7)\n",
            "Requirement already satisfied: urllib3<3,>=1.21.1 in /usr/local/lib/python3.10/dist-packages (from requests->vaderSentiment) (2.0.7)\n",
            "Requirement already satisfied: certifi>=2017.4.17 in /usr/local/lib/python3.10/dist-packages (from requests->vaderSentiment) (2024.7.4)\n",
            "Installing collected packages: vaderSentiment\n",
            "Successfully installed vaderSentiment-3.3.2\n"
          ]
        }
      ]
    },
    {
      "cell_type": "code",
      "source": [
        "!pip install nltk"
      ],
      "metadata": {
        "colab": {
          "base_uri": "https://localhost:8080/"
        },
        "id": "rkzBEBXZ-uUC",
        "outputId": "c8a9d231-ce00-49cb-ab07-f0544a95690e"
      },
      "execution_count": 24,
      "outputs": [
        {
          "output_type": "stream",
          "name": "stdout",
          "text": [
            "Requirement already satisfied: nltk in /usr/local/lib/python3.10/dist-packages (3.8.1)\n",
            "Requirement already satisfied: click in /usr/local/lib/python3.10/dist-packages (from nltk) (8.1.7)\n",
            "Requirement already satisfied: joblib in /usr/local/lib/python3.10/dist-packages (from nltk) (1.4.2)\n",
            "Requirement already satisfied: regex>=2021.8.3 in /usr/local/lib/python3.10/dist-packages (from nltk) (2024.5.15)\n",
            "Requirement already satisfied: tqdm in /usr/local/lib/python3.10/dist-packages (from nltk) (4.66.4)\n"
          ]
        }
      ]
    },
    {
      "cell_type": "code",
      "source": [
        "from vaderSentiment.vaderSentiment import SentimentIntensityAnalyzer\n",
        "\n",
        "santance_1 = \"The Gojek application has very good service\"\n",
        "santance_2 = \"The Gojek application has poor service\"\n",
        "\n",
        "analyzer = SentimentIntensityAnalyzer()\n",
        "\n",
        "sentimen_1 = analyzer.polarity_scores(santance_1)\n",
        "sentimen_2 = analyzer.polarity_scores(santance_2)\n",
        "\n",
        "print(\"Kalimat 1 : \", sentimen_1)\n",
        "print(\"Kalimat 2: \", sentimen_2)"
      ],
      "metadata": {
        "colab": {
          "base_uri": "https://localhost:8080/"
        },
        "id": "UDDUQ5fF-Jf7",
        "outputId": "d003e9a3-957e-4b64-edee-a17e92a83c0e"
      },
      "execution_count": 27,
      "outputs": [
        {
          "output_type": "stream",
          "name": "stdout",
          "text": [
            "Kalimat 1 :  {'neg': 0.0, 'neu': 0.653, 'pos': 0.347, 'compound': 0.4927}\n",
            "Kalimat 2:  {'neg': 0.383, 'neu': 0.617, 'pos': 0.0, 'compound': -0.4767}\n"
          ]
        }
      ]
    },
    {
      "cell_type": "markdown",
      "source": [
        "## Name Entity Recognition (NER)"
      ],
      "metadata": {
        "id": "6dOdgjXSGRLG"
      }
    },
    {
      "cell_type": "code",
      "source": [
        "import spacy\n",
        "from spacy import displacy\n",
        "\n",
        "Ner = spacy.load(\"en_core_web_sm\")\n",
        "raw_teks1 = \"The Gojek application has very good service. It was founded in 2010 in Jakarta, Indonesia.\"\n",
        "raw_teks2 = \"Indonesia is the world's largest archipelagic state and the 14th-largest country by area, at 1,904,569 square kilometres (735,358 square miles).\""
      ],
      "metadata": {
        "id": "ddQh0nDvGQ5t"
      },
      "execution_count": 59,
      "outputs": []
    },
    {
      "cell_type": "code",
      "source": [
        "teks1 = Ner(raw_teks1)\n",
        "teks2 = Ner(raw_teks2)"
      ],
      "metadata": {
        "id": "NLePggKaODi5"
      },
      "execution_count": 60,
      "outputs": []
    },
    {
      "cell_type": "code",
      "source": [
        "for ent in teks1.ents:\n",
        "  print(ent.text, ent.label_)"
      ],
      "metadata": {
        "colab": {
          "base_uri": "https://localhost:8080/"
        },
        "id": "ZlaFTxa8OcOa",
        "outputId": "9906a4c5-09b8-4e01-9f2e-85eb0c1935c6"
      },
      "execution_count": 55,
      "outputs": [
        {
          "output_type": "stream",
          "name": "stdout",
          "text": [
            "Gojek PERSON\n",
            "2010 DATE\n",
            "Jakarta GPE\n",
            "Indonesia GPE\n"
          ]
        }
      ]
    },
    {
      "cell_type": "code",
      "source": [
        "displacy.render(teks1, style=\"ent\", jupyter=True)"
      ],
      "metadata": {
        "colab": {
          "base_uri": "https://localhost:8080/",
          "height": 52
        },
        "id": "hi8s6NZsSezC",
        "outputId": "76b329da-38e7-454a-b590-1621e0c06c25"
      },
      "execution_count": 66,
      "outputs": [
        {
          "output_type": "display_data",
          "data": {
            "text/plain": [
              "<IPython.core.display.HTML object>"
            ],
            "text/html": [
              "<span class=\"tex2jax_ignore\"><div class=\"entities\" style=\"line-height: 2.5; direction: ltr\">The \n",
              "<mark class=\"entity\" style=\"background: #aa9cfc; padding: 0.45em 0.6em; margin: 0 0.25em; line-height: 1; border-radius: 0.35em;\">\n",
              "    Gojek\n",
              "    <span style=\"font-size: 0.8em; font-weight: bold; line-height: 1; border-radius: 0.35em; vertical-align: middle; margin-left: 0.5rem\">PERSON</span>\n",
              "</mark>\n",
              " application has very good service. It was founded in \n",
              "<mark class=\"entity\" style=\"background: #bfe1d9; padding: 0.45em 0.6em; margin: 0 0.25em; line-height: 1; border-radius: 0.35em;\">\n",
              "    2010\n",
              "    <span style=\"font-size: 0.8em; font-weight: bold; line-height: 1; border-radius: 0.35em; vertical-align: middle; margin-left: 0.5rem\">DATE</span>\n",
              "</mark>\n",
              " in \n",
              "<mark class=\"entity\" style=\"background: #feca74; padding: 0.45em 0.6em; margin: 0 0.25em; line-height: 1; border-radius: 0.35em;\">\n",
              "    Jakarta\n",
              "    <span style=\"font-size: 0.8em; font-weight: bold; line-height: 1; border-radius: 0.35em; vertical-align: middle; margin-left: 0.5rem\">GPE</span>\n",
              "</mark>\n",
              ", \n",
              "<mark class=\"entity\" style=\"background: #feca74; padding: 0.45em 0.6em; margin: 0 0.25em; line-height: 1; border-radius: 0.35em;\">\n",
              "    Indonesia\n",
              "    <span style=\"font-size: 0.8em; font-weight: bold; line-height: 1; border-radius: 0.35em; vertical-align: middle; margin-left: 0.5rem\">GPE</span>\n",
              "</mark>\n",
              ".</div></span>"
            ]
          },
          "metadata": {}
        }
      ]
    },
    {
      "cell_type": "code",
      "source": [
        "# tokenisasi\n",
        "for token in teks2:\n",
        "  print(token.text, token.pos_, token.dep_)"
      ],
      "metadata": {
        "colab": {
          "base_uri": "https://localhost:8080/"
        },
        "id": "LtDCyjGRQTqD",
        "outputId": "e58bbefc-8ee4-4768-9ffb-3ad95189034f"
      },
      "execution_count": 61,
      "outputs": [
        {
          "output_type": "stream",
          "name": "stdout",
          "text": [
            "Indonesia PROPN nsubj\n",
            "is AUX ROOT\n",
            "the DET det\n",
            "world NOUN poss\n",
            "'s PART case\n",
            "largest ADJ amod\n",
            "archipelagic ADJ amod\n",
            "state NOUN attr\n",
            "and CCONJ cc\n",
            "the DET det\n",
            "14th ADV advmod\n",
            "- PUNCT punct\n",
            "largest ADJ amod\n",
            "country NOUN conj\n",
            "by ADP prep\n",
            "area NOUN pobj\n",
            ", PUNCT punct\n",
            "at ADP prep\n",
            "1,904,569 NUM nummod\n",
            "square ADJ amod\n",
            "kilometres NOUN pobj\n",
            "( PUNCT punct\n",
            "735,358 NUM nummod\n",
            "square ADJ amod\n",
            "miles NOUN appos\n",
            ") PUNCT punct\n",
            ". PUNCT punct\n"
          ]
        }
      ]
    },
    {
      "cell_type": "code",
      "source": [
        "for ent in teks2.ents:\n",
        "  print(ent.text, ent.label_)"
      ],
      "metadata": {
        "colab": {
          "base_uri": "https://localhost:8080/"
        },
        "id": "EO_GLpRDPpU7",
        "outputId": "b1844aa3-1910-4da8-b1c6-40219590875f"
      },
      "execution_count": 62,
      "outputs": [
        {
          "output_type": "stream",
          "name": "stdout",
          "text": [
            "Indonesia GPE\n",
            "14th ORDINAL\n",
            "1,904,569 square kilometres QUANTITY\n",
            "735,358 square miles QUANTITY\n"
          ]
        }
      ]
    },
    {
      "cell_type": "code",
      "source": [
        "displacy.render(teks2, style=\"ent\", jupyter=True)"
      ],
      "metadata": {
        "colab": {
          "base_uri": "https://localhost:8080/",
          "height": 52
        },
        "id": "5DSjP28SSWXy",
        "outputId": "e7ef3980-2e70-4bb1-a753-c50136c160ad"
      },
      "execution_count": 65,
      "outputs": [
        {
          "output_type": "display_data",
          "data": {
            "text/plain": [
              "<IPython.core.display.HTML object>"
            ],
            "text/html": [
              "<span class=\"tex2jax_ignore\"><div class=\"entities\" style=\"line-height: 2.5; direction: ltr\">\n",
              "<mark class=\"entity\" style=\"background: #feca74; padding: 0.45em 0.6em; margin: 0 0.25em; line-height: 1; border-radius: 0.35em;\">\n",
              "    Indonesia\n",
              "    <span style=\"font-size: 0.8em; font-weight: bold; line-height: 1; border-radius: 0.35em; vertical-align: middle; margin-left: 0.5rem\">GPE</span>\n",
              "</mark>\n",
              " is the world's largest archipelagic state and the \n",
              "<mark class=\"entity\" style=\"background: #e4e7d2; padding: 0.45em 0.6em; margin: 0 0.25em; line-height: 1; border-radius: 0.35em;\">\n",
              "    14th\n",
              "    <span style=\"font-size: 0.8em; font-weight: bold; line-height: 1; border-radius: 0.35em; vertical-align: middle; margin-left: 0.5rem\">ORDINAL</span>\n",
              "</mark>\n",
              "-largest country by area, at \n",
              "<mark class=\"entity\" style=\"background: #e4e7d2; padding: 0.45em 0.6em; margin: 0 0.25em; line-height: 1; border-radius: 0.35em;\">\n",
              "    1,904,569 square kilometres\n",
              "    <span style=\"font-size: 0.8em; font-weight: bold; line-height: 1; border-radius: 0.35em; vertical-align: middle; margin-left: 0.5rem\">QUANTITY</span>\n",
              "</mark>\n",
              " (\n",
              "<mark class=\"entity\" style=\"background: #e4e7d2; padding: 0.45em 0.6em; margin: 0 0.25em; line-height: 1; border-radius: 0.35em;\">\n",
              "    735,358 square miles\n",
              "    <span style=\"font-size: 0.8em; font-weight: bold; line-height: 1; border-radius: 0.35em; vertical-align: middle; margin-left: 0.5rem\">QUANTITY</span>\n",
              "</mark>\n",
              ").</div></span>"
            ]
          },
          "metadata": {}
        }
      ]
    },
    {
      "cell_type": "code",
      "source": [
        "import spacy\n",
        "\n",
        "# Memuat model bahasa Inggris\n",
        "nlp = spacy.load(\"en_core_web_sm\")\n",
        "\n",
        "# Kalimat panjang\n",
        "teks = (\"Despite the challenging weather conditions, which included heavy rain and strong winds, \"\n",
        "        \"the annual charity marathon, which is organized by the local community center and aims to raise \"\n",
        "        \"funds for underprivileged children, went ahead as planned and saw a record number of participants, \"\n",
        "        \"with many runners, both professional and amateur, coming together to support the cause and help make \"\n",
        "        \"a difference in the lives of those in need.\")\n",
        "\n",
        "# Memproses teks\n",
        "doc = nlp(teks)\n",
        "\n",
        "# Tokenisasi\n",
        "print(\"Tokenisasi:\")\n",
        "for token in doc:\n",
        "    print(token.text, token.pos_, token.dep_)\n",
        "\n",
        "print(\"\\nNamed Entities:\")\n",
        "# Named Entity Recognition (NER)\n",
        "for ent in doc.ents:\n",
        "    print(ent.text, ent.label_)\n",
        "\n",
        "print(\"\\nLemmatization:\")\n",
        "# Lemmatization\n",
        "for token in doc:\n",
        "    print(token.text, token.lemma_)\n",
        "\n",
        "print(\"\\nPart-of-Speech Tagging:\")\n",
        "# Part-of-Speech Tagging\n",
        "for token in doc:\n",
        "    print(token.text, token.pos_, token.tag_)\n",
        "\n",
        "print(\"\\nDependency Parsing:\")\n",
        "# Dependency Parsing\n",
        "for token in doc:\n",
        "    print(token.text, token.dep_, token.head.text)\n",
        "\n",
        "print(\"\\nVisualisasi Named Entities:\")\n",
        "# Visualisasi Named Entities\n",
        "displacy.render(doc, style=\"ent\", jupyter=True)"
      ],
      "metadata": {
        "colab": {
          "base_uri": "https://localhost:8080/",
          "height": 1000
        },
        "id": "dy2BEiBGSBnL",
        "outputId": "8931b74e-e446-4f26-e1a2-c6dc210d4e4a"
      },
      "execution_count": 64,
      "outputs": [
        {
          "output_type": "stream",
          "name": "stdout",
          "text": [
            "Tokenisasi:\n",
            "Despite SCONJ prep\n",
            "the DET det\n",
            "challenging ADJ amod\n",
            "weather NOUN compound\n",
            "conditions NOUN pobj\n",
            ", PUNCT punct\n",
            "which PRON nsubj\n",
            "included VERB relcl\n",
            "heavy ADJ amod\n",
            "rain NOUN dobj\n",
            "and CCONJ cc\n",
            "strong ADJ amod\n",
            "winds NOUN conj\n",
            ", PUNCT punct\n",
            "the DET det\n",
            "annual ADJ amod\n",
            "charity NOUN compound\n",
            "marathon NOUN nsubj\n",
            ", PUNCT punct\n",
            "which PRON nsubjpass\n",
            "is AUX auxpass\n",
            "organized VERB relcl\n",
            "by ADP agent\n",
            "the DET det\n",
            "local ADJ amod\n",
            "community NOUN compound\n",
            "center NOUN pobj\n",
            "and CCONJ cc\n",
            "aims VERB conj\n",
            "to PART aux\n",
            "raise VERB xcomp\n",
            "funds NOUN dobj\n",
            "for ADP prep\n",
            "underprivileged ADJ amod\n",
            "children NOUN pobj\n",
            ", PUNCT punct\n",
            "went VERB ROOT\n",
            "ahead ADV advmod\n",
            "as SCONJ mark\n",
            "planned VERB advcl\n",
            "and CCONJ cc\n",
            "saw VERB conj\n",
            "a DET det\n",
            "record NOUN compound\n",
            "number NOUN dobj\n",
            "of ADP prep\n",
            "participants NOUN pobj\n",
            ", PUNCT punct\n",
            "with ADP prep\n",
            "many ADJ amod\n",
            "runners NOUN pobj\n",
            ", PUNCT punct\n",
            "both CCONJ preconj\n",
            "professional ADJ amod\n",
            "and CCONJ cc\n",
            "amateur ADJ conj\n",
            ", PUNCT punct\n",
            "coming VERB advcl\n",
            "together ADV advmod\n",
            "to PART aux\n",
            "support VERB advcl\n",
            "the DET det\n",
            "cause NOUN dobj\n",
            "and CCONJ cc\n",
            "help VERB conj\n",
            "make VERB xcomp\n",
            "a DET det\n",
            "difference NOUN dobj\n",
            "in ADP prep\n",
            "the DET det\n",
            "lives NOUN pobj\n",
            "of ADP prep\n",
            "those PRON pobj\n",
            "in ADP prep\n",
            "need NOUN pobj\n",
            ". PUNCT punct\n",
            "\n",
            "Named Entities:\n",
            "annual DATE\n",
            "\n",
            "Lemmatization:\n",
            "Despite despite\n",
            "the the\n",
            "challenging challenging\n",
            "weather weather\n",
            "conditions condition\n",
            ", ,\n",
            "which which\n",
            "included include\n",
            "heavy heavy\n",
            "rain rain\n",
            "and and\n",
            "strong strong\n",
            "winds wind\n",
            ", ,\n",
            "the the\n",
            "annual annual\n",
            "charity charity\n",
            "marathon marathon\n",
            ", ,\n",
            "which which\n",
            "is be\n",
            "organized organize\n",
            "by by\n",
            "the the\n",
            "local local\n",
            "community community\n",
            "center center\n",
            "and and\n",
            "aims aim\n",
            "to to\n",
            "raise raise\n",
            "funds fund\n",
            "for for\n",
            "underprivileged underprivileged\n",
            "children child\n",
            ", ,\n",
            "went go\n",
            "ahead ahead\n",
            "as as\n",
            "planned plan\n",
            "and and\n",
            "saw see\n",
            "a a\n",
            "record record\n",
            "number number\n",
            "of of\n",
            "participants participant\n",
            ", ,\n",
            "with with\n",
            "many many\n",
            "runners runner\n",
            ", ,\n",
            "both both\n",
            "professional professional\n",
            "and and\n",
            "amateur amateur\n",
            ", ,\n",
            "coming come\n",
            "together together\n",
            "to to\n",
            "support support\n",
            "the the\n",
            "cause cause\n",
            "and and\n",
            "help help\n",
            "make make\n",
            "a a\n",
            "difference difference\n",
            "in in\n",
            "the the\n",
            "lives life\n",
            "of of\n",
            "those those\n",
            "in in\n",
            "need need\n",
            ". .\n",
            "\n",
            "Part-of-Speech Tagging:\n",
            "Despite SCONJ IN\n",
            "the DET DT\n",
            "challenging ADJ JJ\n",
            "weather NOUN NN\n",
            "conditions NOUN NNS\n",
            ", PUNCT ,\n",
            "which PRON WDT\n",
            "included VERB VBD\n",
            "heavy ADJ JJ\n",
            "rain NOUN NN\n",
            "and CCONJ CC\n",
            "strong ADJ JJ\n",
            "winds NOUN NNS\n",
            ", PUNCT ,\n",
            "the DET DT\n",
            "annual ADJ JJ\n",
            "charity NOUN NN\n",
            "marathon NOUN NN\n",
            ", PUNCT ,\n",
            "which PRON WDT\n",
            "is AUX VBZ\n",
            "organized VERB VBN\n",
            "by ADP IN\n",
            "the DET DT\n",
            "local ADJ JJ\n",
            "community NOUN NN\n",
            "center NOUN NN\n",
            "and CCONJ CC\n",
            "aims VERB VBZ\n",
            "to PART TO\n",
            "raise VERB VB\n",
            "funds NOUN NNS\n",
            "for ADP IN\n",
            "underprivileged ADJ JJ\n",
            "children NOUN NNS\n",
            ", PUNCT ,\n",
            "went VERB VBD\n",
            "ahead ADV RB\n",
            "as SCONJ IN\n",
            "planned VERB VBN\n",
            "and CCONJ CC\n",
            "saw VERB VBD\n",
            "a DET DT\n",
            "record NOUN NN\n",
            "number NOUN NN\n",
            "of ADP IN\n",
            "participants NOUN NNS\n",
            ", PUNCT ,\n",
            "with ADP IN\n",
            "many ADJ JJ\n",
            "runners NOUN NNS\n",
            ", PUNCT ,\n",
            "both CCONJ CC\n",
            "professional ADJ JJ\n",
            "and CCONJ CC\n",
            "amateur ADJ JJ\n",
            ", PUNCT ,\n",
            "coming VERB VBG\n",
            "together ADV RB\n",
            "to PART TO\n",
            "support VERB VB\n",
            "the DET DT\n",
            "cause NOUN NN\n",
            "and CCONJ CC\n",
            "help VERB VB\n",
            "make VERB VB\n",
            "a DET DT\n",
            "difference NOUN NN\n",
            "in ADP IN\n",
            "the DET DT\n",
            "lives NOUN NNS\n",
            "of ADP IN\n",
            "those PRON DT\n",
            "in ADP IN\n",
            "need NOUN NN\n",
            ". PUNCT .\n",
            "\n",
            "Dependency Parsing:\n",
            "Despite prep went\n",
            "the det conditions\n",
            "challenging amod conditions\n",
            "weather compound conditions\n",
            "conditions pobj Despite\n",
            ", punct conditions\n",
            "which nsubj included\n",
            "included relcl conditions\n",
            "heavy amod rain\n",
            "rain dobj included\n",
            "and cc rain\n",
            "strong amod winds\n",
            "winds conj rain\n",
            ", punct went\n",
            "the det marathon\n",
            "annual amod marathon\n",
            "charity compound marathon\n",
            "marathon nsubj went\n",
            ", punct marathon\n",
            "which nsubjpass organized\n",
            "is auxpass organized\n",
            "organized relcl marathon\n",
            "by agent organized\n",
            "the det center\n",
            "local amod center\n",
            "community compound center\n",
            "center pobj by\n",
            "and cc organized\n",
            "aims conj organized\n",
            "to aux raise\n",
            "raise xcomp aims\n",
            "funds dobj raise\n",
            "for prep funds\n",
            "underprivileged amod children\n",
            "children pobj for\n",
            ", punct marathon\n",
            "went ROOT went\n",
            "ahead advmod went\n",
            "as mark planned\n",
            "planned advcl went\n",
            "and cc went\n",
            "saw conj went\n",
            "a det number\n",
            "record compound number\n",
            "number dobj saw\n",
            "of prep number\n",
            "participants pobj of\n",
            ", punct saw\n",
            "with prep saw\n",
            "many amod runners\n",
            "runners pobj with\n",
            ", punct runners\n",
            "both preconj professional\n",
            "professional amod runners\n",
            "and cc professional\n",
            "amateur conj professional\n",
            ", punct runners\n",
            "coming advcl saw\n",
            "together advmod coming\n",
            "to aux support\n",
            "support advcl coming\n",
            "the det cause\n",
            "cause dobj support\n",
            "and cc support\n",
            "help conj support\n",
            "make xcomp help\n",
            "a det difference\n",
            "difference dobj make\n",
            "in prep make\n",
            "the det lives\n",
            "lives pobj in\n",
            "of prep lives\n",
            "those pobj of\n",
            "in prep those\n",
            "need pobj in\n",
            ". punct went\n",
            "\n",
            "Visualisasi Named Entities:\n"
          ]
        },
        {
          "output_type": "display_data",
          "data": {
            "text/plain": [
              "<IPython.core.display.HTML object>"
            ],
            "text/html": [
              "<span class=\"tex2jax_ignore\"><div class=\"entities\" style=\"line-height: 2.5; direction: ltr\">Despite the challenging weather conditions, which included heavy rain and strong winds, the \n",
              "<mark class=\"entity\" style=\"background: #bfe1d9; padding: 0.45em 0.6em; margin: 0 0.25em; line-height: 1; border-radius: 0.35em;\">\n",
              "    annual\n",
              "    <span style=\"font-size: 0.8em; font-weight: bold; line-height: 1; border-radius: 0.35em; vertical-align: middle; margin-left: 0.5rem\">DATE</span>\n",
              "</mark>\n",
              " charity marathon, which is organized by the local community center and aims to raise funds for underprivileged children, went ahead as planned and saw a record number of participants, with many runners, both professional and amateur, coming together to support the cause and help make a difference in the lives of those in need.</div></span>"
            ]
          },
          "metadata": {}
        }
      ]
    }
  ]
}